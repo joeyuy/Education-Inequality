{
  "nbformat": 4,
  "nbformat_minor": 0,
  "metadata": {
    "colab": {
      "provenance": [],
      "collapsed_sections": [
        "dwvtDMCYlPus",
        "gm4P0PathHWa",
        "wjR9t_xKPwQP",
        "kiMatFTuBE_g",
        "U2lDOreWyjjm"
      ],
      "include_colab_link": true
    },
    "kernelspec": {
      "name": "python3",
      "display_name": "Python 3"
    },
    "language_info": {
      "name": "python"
    }
  },
  "cells": [
    {
      "cell_type": "markdown",
      "metadata": {
        "id": "view-in-github",
        "colab_type": "text"
      },
      "source": [
        "<a href=\"https://colab.research.google.com/github/joeyuy/Education-Inequality/blob/main/Education_Regression_Analysis.ipynb\" target=\"_parent\"><img src=\"https://colab.research.google.com/assets/colab-badge.svg\" alt=\"Open In Colab\"/></a>"
      ]
    },
    {
      "cell_type": "markdown",
      "source": [
        "## Introduction"
      ],
      "metadata": {
        "id": "cOSJyABoshOK"
      }
    },
    {
      "cell_type": "markdown",
      "source": [
        "##### $\\rightarrow$ This notebook will run a regression analysis that investigates how a school's socio-economic factors and its capital allocation impacts average ACT/SAT grades. The analysis will use a cleaned data frame that is normalized for regression. The data preparation and details on the data sources can be viewed [here](https://github.com/joeyuy/Education-Inequality/blob/ef0c1e15aa005bc69dbbe63500397fcccabb34cb/Final_Education_Data_Prep.ipynb).\n"
      ],
      "metadata": {
        "id": "26hIPGtBsi7g"
      }
    },
    {
      "cell_type": "markdown",
      "source": [
        "## Import libraries\n",
        "\n",
        "$\\rightarrow$ Import necessary libraries for analysis."
      ],
      "metadata": {
        "id": "dwvtDMCYlPus"
      }
    },
    {
      "cell_type": "code",
      "execution_count": 2,
      "metadata": {
        "id": "DQZAzYri_ru5"
      },
      "outputs": [],
      "source": [
        "import pandas as pd\n",
        "import numpy as np\n",
        "import matplotlib.pyplot as plt\n",
        "import seaborn as sns\n",
        "sns.set_theme(style='whitegrid')\n",
        "\n",
        "from sklearn.linear_model import LinearRegression, Lasso, Ridge, ElasticNet\n",
        "from sklearn.metrics import mean_squared_error\n",
        "import statsmodels.api as sm\n",
        "from itertools import combinations"
      ]
    },
    {
      "cell_type": "markdown",
      "source": [
        "## Load clean data\n",
        "\n",
        "$\\rightarrow$ Load the clean data set from Github."
      ],
      "metadata": {
        "id": "gm4P0PathHWa"
      }
    },
    {
      "cell_type": "code",
      "source": [
        "train = pd.read_csv('https://raw.githubusercontent.com/joeyuy/Education-Inequality/main/education_train.csv')\n",
        "test = pd.read_csv('https://raw.githubusercontent.com/joeyuy/Education-Inequality/main/education_test.csv')"
      ],
      "metadata": {
        "id": "gUJV9NjM4nng"
      },
      "execution_count": 29,
      "outputs": []
    },
    {
      "cell_type": "markdown",
      "source": [
        "##### $\\rightarrow$ Review the contents of the data set."
      ],
      "metadata": {
        "id": "79uDfIiT4raQ"
      }
    },
    {
      "cell_type": "code",
      "source": [
        "train.info()"
      ],
      "metadata": {
        "colab": {
          "base_uri": "https://localhost:8080/"
        },
        "id": "TxCc4wj88e63",
        "outputId": "1abd1dac-5b07-4275-adf2-da7ce241c834"
      },
      "execution_count": 30,
      "outputs": [
        {
          "output_type": "stream",
          "name": "stdout",
          "text": [
            "<class 'pandas.core.frame.DataFrame'>\n",
            "RangeIndex: 5802 entries, 0 to 5801\n",
            "Data columns (total 17 columns):\n",
            " #   Column             Non-Null Count  Dtype  \n",
            "---  ------             --------------  -----  \n",
            " 0   id                 5802 non-null   int64  \n",
            " 1   rate_unemployment  5802 non-null   float64\n",
            " 2   percent_college    5802 non-null   float64\n",
            " 3   percent_married    5802 non-null   float64\n",
            " 4   median_income      5802 non-null   float64\n",
            " 5   percent_lunch      5802 non-null   float64\n",
            " 6   year               5802 non-null   object \n",
            " 7   state              5802 non-null   object \n",
            " 8   zip_code           5802 non-null   int64  \n",
            " 9   school_type        5802 non-null   object \n",
            " 10  school_level       5802 non-null   object \n",
            " 11  district_id        5802 non-null   int64  \n",
            " 12  teacher_salary     5802 non-null   float64\n",
            " 13  student_support    5802 non-null   float64\n",
            " 14  staff_support      5802 non-null   float64\n",
            " 15  admin_salary       5802 non-null   float64\n",
            " 16  average_act        5802 non-null   float64\n",
            "dtypes: float64(10), int64(3), object(4)\n",
            "memory usage: 770.7+ KB\n"
          ]
        }
      ]
    },
    {
      "cell_type": "code",
      "source": [
        "test.info()"
      ],
      "metadata": {
        "colab": {
          "base_uri": "https://localhost:8080/"
        },
        "id": "GBhYfXMWiVd8",
        "outputId": "0f30e5dd-b502-47a3-a4b6-6fbc84e3e3e4"
      },
      "execution_count": 31,
      "outputs": [
        {
          "output_type": "stream",
          "name": "stdout",
          "text": [
            "<class 'pandas.core.frame.DataFrame'>\n",
            "RangeIndex: 1451 entries, 0 to 1450\n",
            "Data columns (total 17 columns):\n",
            " #   Column             Non-Null Count  Dtype  \n",
            "---  ------             --------------  -----  \n",
            " 0   id                 1451 non-null   int64  \n",
            " 1   rate_unemployment  1451 non-null   float64\n",
            " 2   percent_college    1451 non-null   float64\n",
            " 3   percent_married    1451 non-null   float64\n",
            " 4   median_income      1451 non-null   float64\n",
            " 5   percent_lunch      1451 non-null   float64\n",
            " 6   year               1451 non-null   object \n",
            " 7   state              1451 non-null   object \n",
            " 8   zip_code           1451 non-null   int64  \n",
            " 9   school_type        1451 non-null   object \n",
            " 10  school_level       1451 non-null   object \n",
            " 11  district_id        1451 non-null   int64  \n",
            " 12  teacher_salary     1451 non-null   float64\n",
            " 13  student_support    1451 non-null   float64\n",
            " 14  staff_support      1451 non-null   float64\n",
            " 15  admin_salary       1451 non-null   float64\n",
            " 16  average_act        1451 non-null   float64\n",
            "dtypes: float64(10), int64(3), object(4)\n",
            "memory usage: 192.8+ KB\n"
          ]
        }
      ]
    },
    {
      "cell_type": "code",
      "source": [
        "test.head()"
      ],
      "metadata": {
        "colab": {
          "base_uri": "https://localhost:8080/",
          "height": 313
        },
        "id": "xYEqqwth8iWJ",
        "outputId": "bc014df0-d2a3-4557-c3b8-ce769c376fa1"
      },
      "execution_count": 32,
      "outputs": [
        {
          "output_type": "execute_result",
          "data": {
            "text/plain": [
              "             id  rate_unemployment  percent_college  percent_married  \\\n",
              "0  263447007025          -0.499315         0.741734         0.637242   \n",
              "1  484447005075          -0.839361        -0.916893         0.155379   \n",
              "2  482178002199          -1.665876        -0.368779        -0.061277   \n",
              "3  482967005548           0.426089        -1.162681        -1.298935   \n",
              "4  530682001002          -0.455451         1.202616        -0.350155   \n",
              "\n",
              "   median_income  percent_lunch       year state  zip_code     school_type  \\\n",
              "0       0.791900      -0.879074  2016-2017    MI     48313  Regular School   \n",
              "1       0.137047      -0.015314  2016-2017    TX     77485  Regular School   \n",
              "2       0.012329      -0.725155  2016-2017    TX     78374  Regular School   \n",
              "3      -1.478359       0.546930  2016-2017    TX     78501  Regular School   \n",
              "4      -0.664416      -0.158200  2016-2017    WA     98362  Regular School   \n",
              "\n",
              "  school_level  district_id  teacher_salary  student_support  staff_support  \\\n",
              "0         High      2634470       -0.385745        -1.022994      -0.766360   \n",
              "1         High      4844470       -0.442477        -0.554748      -1.047423   \n",
              "2         High      4821780       -0.118408        -0.244667       0.487881   \n",
              "3         High      4829670       -0.060899        -0.722916      -0.155049   \n",
              "4         High      5306820        0.769092         0.212952       0.294650   \n",
              "\n",
              "   admin_salary  average_act  \n",
              "0     -1.009519    20.800000  \n",
              "1     -0.224725    20.054945  \n",
              "2     -0.111661    20.763126  \n",
              "3     -0.813320    20.738706  \n",
              "4     -0.730185    22.887668  "
            ],
            "text/html": [
              "\n",
              "  <div id=\"df-6d7b9241-dda6-482e-9575-03290c82bd89\" class=\"colab-df-container\">\n",
              "    <div>\n",
              "<style scoped>\n",
              "    .dataframe tbody tr th:only-of-type {\n",
              "        vertical-align: middle;\n",
              "    }\n",
              "\n",
              "    .dataframe tbody tr th {\n",
              "        vertical-align: top;\n",
              "    }\n",
              "\n",
              "    .dataframe thead th {\n",
              "        text-align: right;\n",
              "    }\n",
              "</style>\n",
              "<table border=\"1\" class=\"dataframe\">\n",
              "  <thead>\n",
              "    <tr style=\"text-align: right;\">\n",
              "      <th></th>\n",
              "      <th>id</th>\n",
              "      <th>rate_unemployment</th>\n",
              "      <th>percent_college</th>\n",
              "      <th>percent_married</th>\n",
              "      <th>median_income</th>\n",
              "      <th>percent_lunch</th>\n",
              "      <th>year</th>\n",
              "      <th>state</th>\n",
              "      <th>zip_code</th>\n",
              "      <th>school_type</th>\n",
              "      <th>school_level</th>\n",
              "      <th>district_id</th>\n",
              "      <th>teacher_salary</th>\n",
              "      <th>student_support</th>\n",
              "      <th>staff_support</th>\n",
              "      <th>admin_salary</th>\n",
              "      <th>average_act</th>\n",
              "    </tr>\n",
              "  </thead>\n",
              "  <tbody>\n",
              "    <tr>\n",
              "      <th>0</th>\n",
              "      <td>263447007025</td>\n",
              "      <td>-0.499315</td>\n",
              "      <td>0.741734</td>\n",
              "      <td>0.637242</td>\n",
              "      <td>0.791900</td>\n",
              "      <td>-0.879074</td>\n",
              "      <td>2016-2017</td>\n",
              "      <td>MI</td>\n",
              "      <td>48313</td>\n",
              "      <td>Regular School</td>\n",
              "      <td>High</td>\n",
              "      <td>2634470</td>\n",
              "      <td>-0.385745</td>\n",
              "      <td>-1.022994</td>\n",
              "      <td>-0.766360</td>\n",
              "      <td>-1.009519</td>\n",
              "      <td>20.800000</td>\n",
              "    </tr>\n",
              "    <tr>\n",
              "      <th>1</th>\n",
              "      <td>484447005075</td>\n",
              "      <td>-0.839361</td>\n",
              "      <td>-0.916893</td>\n",
              "      <td>0.155379</td>\n",
              "      <td>0.137047</td>\n",
              "      <td>-0.015314</td>\n",
              "      <td>2016-2017</td>\n",
              "      <td>TX</td>\n",
              "      <td>77485</td>\n",
              "      <td>Regular School</td>\n",
              "      <td>High</td>\n",
              "      <td>4844470</td>\n",
              "      <td>-0.442477</td>\n",
              "      <td>-0.554748</td>\n",
              "      <td>-1.047423</td>\n",
              "      <td>-0.224725</td>\n",
              "      <td>20.054945</td>\n",
              "    </tr>\n",
              "    <tr>\n",
              "      <th>2</th>\n",
              "      <td>482178002199</td>\n",
              "      <td>-1.665876</td>\n",
              "      <td>-0.368779</td>\n",
              "      <td>-0.061277</td>\n",
              "      <td>0.012329</td>\n",
              "      <td>-0.725155</td>\n",
              "      <td>2016-2017</td>\n",
              "      <td>TX</td>\n",
              "      <td>78374</td>\n",
              "      <td>Regular School</td>\n",
              "      <td>High</td>\n",
              "      <td>4821780</td>\n",
              "      <td>-0.118408</td>\n",
              "      <td>-0.244667</td>\n",
              "      <td>0.487881</td>\n",
              "      <td>-0.111661</td>\n",
              "      <td>20.763126</td>\n",
              "    </tr>\n",
              "    <tr>\n",
              "      <th>3</th>\n",
              "      <td>482967005548</td>\n",
              "      <td>0.426089</td>\n",
              "      <td>-1.162681</td>\n",
              "      <td>-1.298935</td>\n",
              "      <td>-1.478359</td>\n",
              "      <td>0.546930</td>\n",
              "      <td>2016-2017</td>\n",
              "      <td>TX</td>\n",
              "      <td>78501</td>\n",
              "      <td>Regular School</td>\n",
              "      <td>High</td>\n",
              "      <td>4829670</td>\n",
              "      <td>-0.060899</td>\n",
              "      <td>-0.722916</td>\n",
              "      <td>-0.155049</td>\n",
              "      <td>-0.813320</td>\n",
              "      <td>20.738706</td>\n",
              "    </tr>\n",
              "    <tr>\n",
              "      <th>4</th>\n",
              "      <td>530682001002</td>\n",
              "      <td>-0.455451</td>\n",
              "      <td>1.202616</td>\n",
              "      <td>-0.350155</td>\n",
              "      <td>-0.664416</td>\n",
              "      <td>-0.158200</td>\n",
              "      <td>2016-2017</td>\n",
              "      <td>WA</td>\n",
              "      <td>98362</td>\n",
              "      <td>Regular School</td>\n",
              "      <td>High</td>\n",
              "      <td>5306820</td>\n",
              "      <td>0.769092</td>\n",
              "      <td>0.212952</td>\n",
              "      <td>0.294650</td>\n",
              "      <td>-0.730185</td>\n",
              "      <td>22.887668</td>\n",
              "    </tr>\n",
              "  </tbody>\n",
              "</table>\n",
              "</div>\n",
              "    <div class=\"colab-df-buttons\">\n",
              "\n",
              "  <div class=\"colab-df-container\">\n",
              "    <button class=\"colab-df-convert\" onclick=\"convertToInteractive('df-6d7b9241-dda6-482e-9575-03290c82bd89')\"\n",
              "            title=\"Convert this dataframe to an interactive table.\"\n",
              "            style=\"display:none;\">\n",
              "\n",
              "  <svg xmlns=\"http://www.w3.org/2000/svg\" height=\"24px\" viewBox=\"0 -960 960 960\">\n",
              "    <path d=\"M120-120v-720h720v720H120Zm60-500h600v-160H180v160Zm220 220h160v-160H400v160Zm0 220h160v-160H400v160ZM180-400h160v-160H180v160Zm440 0h160v-160H620v160ZM180-180h160v-160H180v160Zm440 0h160v-160H620v160Z\"/>\n",
              "  </svg>\n",
              "    </button>\n",
              "\n",
              "  <style>\n",
              "    .colab-df-container {\n",
              "      display:flex;\n",
              "      gap: 12px;\n",
              "    }\n",
              "\n",
              "    .colab-df-convert {\n",
              "      background-color: #E8F0FE;\n",
              "      border: none;\n",
              "      border-radius: 50%;\n",
              "      cursor: pointer;\n",
              "      display: none;\n",
              "      fill: #1967D2;\n",
              "      height: 32px;\n",
              "      padding: 0 0 0 0;\n",
              "      width: 32px;\n",
              "    }\n",
              "\n",
              "    .colab-df-convert:hover {\n",
              "      background-color: #E2EBFA;\n",
              "      box-shadow: 0px 1px 2px rgba(60, 64, 67, 0.3), 0px 1px 3px 1px rgba(60, 64, 67, 0.15);\n",
              "      fill: #174EA6;\n",
              "    }\n",
              "\n",
              "    .colab-df-buttons div {\n",
              "      margin-bottom: 4px;\n",
              "    }\n",
              "\n",
              "    [theme=dark] .colab-df-convert {\n",
              "      background-color: #3B4455;\n",
              "      fill: #D2E3FC;\n",
              "    }\n",
              "\n",
              "    [theme=dark] .colab-df-convert:hover {\n",
              "      background-color: #434B5C;\n",
              "      box-shadow: 0px 1px 3px 1px rgba(0, 0, 0, 0.15);\n",
              "      filter: drop-shadow(0px 1px 2px rgba(0, 0, 0, 0.3));\n",
              "      fill: #FFFFFF;\n",
              "    }\n",
              "  </style>\n",
              "\n",
              "    <script>\n",
              "      const buttonEl =\n",
              "        document.querySelector('#df-6d7b9241-dda6-482e-9575-03290c82bd89 button.colab-df-convert');\n",
              "      buttonEl.style.display =\n",
              "        google.colab.kernel.accessAllowed ? 'block' : 'none';\n",
              "\n",
              "      async function convertToInteractive(key) {\n",
              "        const element = document.querySelector('#df-6d7b9241-dda6-482e-9575-03290c82bd89');\n",
              "        const dataTable =\n",
              "          await google.colab.kernel.invokeFunction('convertToInteractive',\n",
              "                                                    [key], {});\n",
              "        if (!dataTable) return;\n",
              "\n",
              "        const docLinkHtml = 'Like what you see? Visit the ' +\n",
              "          '<a target=\"_blank\" href=https://colab.research.google.com/notebooks/data_table.ipynb>data table notebook</a>'\n",
              "          + ' to learn more about interactive tables.';\n",
              "        element.innerHTML = '';\n",
              "        dataTable['output_type'] = 'display_data';\n",
              "        await google.colab.output.renderOutput(dataTable, element);\n",
              "        const docLink = document.createElement('div');\n",
              "        docLink.innerHTML = docLinkHtml;\n",
              "        element.appendChild(docLink);\n",
              "      }\n",
              "    </script>\n",
              "  </div>\n",
              "\n",
              "\n",
              "<div id=\"df-73d89b5a-2896-4712-99a4-0bbd662790bd\">\n",
              "  <button class=\"colab-df-quickchart\" onclick=\"quickchart('df-73d89b5a-2896-4712-99a4-0bbd662790bd')\"\n",
              "            title=\"Suggest charts\"\n",
              "            style=\"display:none;\">\n",
              "\n",
              "<svg xmlns=\"http://www.w3.org/2000/svg\" height=\"24px\"viewBox=\"0 0 24 24\"\n",
              "     width=\"24px\">\n",
              "    <g>\n",
              "        <path d=\"M19 3H5c-1.1 0-2 .9-2 2v14c0 1.1.9 2 2 2h14c1.1 0 2-.9 2-2V5c0-1.1-.9-2-2-2zM9 17H7v-7h2v7zm4 0h-2V7h2v10zm4 0h-2v-4h2v4z\"/>\n",
              "    </g>\n",
              "</svg>\n",
              "  </button>\n",
              "\n",
              "<style>\n",
              "  .colab-df-quickchart {\n",
              "      --bg-color: #E8F0FE;\n",
              "      --fill-color: #1967D2;\n",
              "      --hover-bg-color: #E2EBFA;\n",
              "      --hover-fill-color: #174EA6;\n",
              "      --disabled-fill-color: #AAA;\n",
              "      --disabled-bg-color: #DDD;\n",
              "  }\n",
              "\n",
              "  [theme=dark] .colab-df-quickchart {\n",
              "      --bg-color: #3B4455;\n",
              "      --fill-color: #D2E3FC;\n",
              "      --hover-bg-color: #434B5C;\n",
              "      --hover-fill-color: #FFFFFF;\n",
              "      --disabled-bg-color: #3B4455;\n",
              "      --disabled-fill-color: #666;\n",
              "  }\n",
              "\n",
              "  .colab-df-quickchart {\n",
              "    background-color: var(--bg-color);\n",
              "    border: none;\n",
              "    border-radius: 50%;\n",
              "    cursor: pointer;\n",
              "    display: none;\n",
              "    fill: var(--fill-color);\n",
              "    height: 32px;\n",
              "    padding: 0;\n",
              "    width: 32px;\n",
              "  }\n",
              "\n",
              "  .colab-df-quickchart:hover {\n",
              "    background-color: var(--hover-bg-color);\n",
              "    box-shadow: 0 1px 2px rgba(60, 64, 67, 0.3), 0 1px 3px 1px rgba(60, 64, 67, 0.15);\n",
              "    fill: var(--button-hover-fill-color);\n",
              "  }\n",
              "\n",
              "  .colab-df-quickchart-complete:disabled,\n",
              "  .colab-df-quickchart-complete:disabled:hover {\n",
              "    background-color: var(--disabled-bg-color);\n",
              "    fill: var(--disabled-fill-color);\n",
              "    box-shadow: none;\n",
              "  }\n",
              "\n",
              "  .colab-df-spinner {\n",
              "    border: 2px solid var(--fill-color);\n",
              "    border-color: transparent;\n",
              "    border-bottom-color: var(--fill-color);\n",
              "    animation:\n",
              "      spin 1s steps(1) infinite;\n",
              "  }\n",
              "\n",
              "  @keyframes spin {\n",
              "    0% {\n",
              "      border-color: transparent;\n",
              "      border-bottom-color: var(--fill-color);\n",
              "      border-left-color: var(--fill-color);\n",
              "    }\n",
              "    20% {\n",
              "      border-color: transparent;\n",
              "      border-left-color: var(--fill-color);\n",
              "      border-top-color: var(--fill-color);\n",
              "    }\n",
              "    30% {\n",
              "      border-color: transparent;\n",
              "      border-left-color: var(--fill-color);\n",
              "      border-top-color: var(--fill-color);\n",
              "      border-right-color: var(--fill-color);\n",
              "    }\n",
              "    40% {\n",
              "      border-color: transparent;\n",
              "      border-right-color: var(--fill-color);\n",
              "      border-top-color: var(--fill-color);\n",
              "    }\n",
              "    60% {\n",
              "      border-color: transparent;\n",
              "      border-right-color: var(--fill-color);\n",
              "    }\n",
              "    80% {\n",
              "      border-color: transparent;\n",
              "      border-right-color: var(--fill-color);\n",
              "      border-bottom-color: var(--fill-color);\n",
              "    }\n",
              "    90% {\n",
              "      border-color: transparent;\n",
              "      border-bottom-color: var(--fill-color);\n",
              "    }\n",
              "  }\n",
              "</style>\n",
              "\n",
              "  <script>\n",
              "    async function quickchart(key) {\n",
              "      const quickchartButtonEl =\n",
              "        document.querySelector('#' + key + ' button');\n",
              "      quickchartButtonEl.disabled = true;  // To prevent multiple clicks.\n",
              "      quickchartButtonEl.classList.add('colab-df-spinner');\n",
              "      try {\n",
              "        const charts = await google.colab.kernel.invokeFunction(\n",
              "            'suggestCharts', [key], {});\n",
              "      } catch (error) {\n",
              "        console.error('Error during call to suggestCharts:', error);\n",
              "      }\n",
              "      quickchartButtonEl.classList.remove('colab-df-spinner');\n",
              "      quickchartButtonEl.classList.add('colab-df-quickchart-complete');\n",
              "    }\n",
              "    (() => {\n",
              "      let quickchartButtonEl =\n",
              "        document.querySelector('#df-73d89b5a-2896-4712-99a4-0bbd662790bd button');\n",
              "      quickchartButtonEl.style.display =\n",
              "        google.colab.kernel.accessAllowed ? 'block' : 'none';\n",
              "    })();\n",
              "  </script>\n",
              "</div>\n",
              "\n",
              "    </div>\n",
              "  </div>\n"
            ],
            "application/vnd.google.colaboratory.intrinsic+json": {
              "type": "dataframe",
              "variable_name": "test",
              "summary": "{\n  \"name\": \"test\",\n  \"rows\": 1451,\n  \"fields\": [\n    {\n      \"column\": \"id\",\n      \"properties\": {\n        \"dtype\": \"number\",\n        \"std\": 137564307815,\n        \"min\": 100008000024,\n        \"max\": 560569500360,\n        \"num_unique_values\": 1451,\n        \"samples\": [\n          370231000994,\n          390458602367,\n          180834001429\n        ],\n        \"semantic_type\": \"\",\n        \"description\": \"\"\n      }\n    },\n    {\n      \"column\": \"rate_unemployment\",\n      \"properties\": {\n        \"dtype\": \"number\",\n        \"std\": 1.0166769118445824,\n        \"min\": -1.7076624622421157,\n        \"max\": 6.435459355082214,\n        \"num_unique_values\": 1430,\n        \"samples\": [\n          -1.0620424416102905,\n          -0.4644437448271127,\n          0.7322428251799774\n        ],\n        \"semantic_type\": \"\",\n        \"description\": \"\"\n      }\n    },\n    {\n      \"column\": \"percent_college\",\n      \"properties\": {\n        \"dtype\": \"number\",\n        \"std\": 0.9939158906079475,\n        \"min\": -2.7604242268436123,\n        \"max\": 2.5409632405642437,\n        \"num_unique_values\": 1432,\n        \"samples\": [\n          0.4623994062112367,\n          -1.7728451186931975,\n          -0.3270557274523167\n        ],\n        \"semantic_type\": \"\",\n        \"description\": \"\"\n      }\n    },\n    {\n      \"column\": \"percent_married\",\n      \"properties\": {\n        \"dtype\": \"number\",\n        \"std\": 1.0102468892466703,\n        \"min\": -3.473996054401772,\n        \"max\": 1.911212118248809,\n        \"num_unique_values\": 1418,\n        \"samples\": [\n          -2.131265104191814,\n          1.0441023277372767,\n          -0.1705416053774028\n        ],\n        \"semantic_type\": \"\",\n        \"description\": \"\"\n      }\n    },\n    {\n      \"column\": \"median_income\",\n      \"properties\": {\n        \"dtype\": \"number\",\n        \"std\": 0.982120257778115,\n        \"min\": -1.9272627047619504,\n        \"max\": 5.234088794984123,\n        \"num_unique_values\": 1388,\n        \"samples\": [\n          1.9920142182391805,\n          -0.3248458779762997,\n          -1.002893877695775\n        ],\n        \"semantic_type\": \"\",\n        \"description\": \"\"\n      }\n    },\n    {\n      \"column\": \"percent_lunch\",\n      \"properties\": {\n        \"dtype\": \"number\",\n        \"std\": 1.032107074645277,\n        \"min\": -1.7788082440827069,\n        \"max\": 2.679654794381381,\n        \"num_unique_values\": 1433,\n        \"samples\": [\n          0.115543095172948,\n          -0.4124056381916481,\n          -1.519357928156005\n        ],\n        \"semantic_type\": \"\",\n        \"description\": \"\"\n      }\n    },\n    {\n      \"column\": \"year\",\n      \"properties\": {\n        \"dtype\": \"category\",\n        \"num_unique_values\": 1,\n        \"samples\": [\n          \"2016-2017\"\n        ],\n        \"semantic_type\": \"\",\n        \"description\": \"\"\n      }\n    },\n    {\n      \"column\": \"state\",\n      \"properties\": {\n        \"dtype\": \"category\",\n        \"num_unique_values\": 19,\n        \"samples\": [\n          \"MI\"\n        ],\n        \"semantic_type\": \"\",\n        \"description\": \"\"\n      }\n    },\n    {\n      \"column\": \"zip_code\",\n      \"properties\": {\n        \"dtype\": \"number\",\n        \"std\": 23023,\n        \"min\": 1027,\n        \"max\": 99349,\n        \"num_unique_values\": 1400,\n        \"samples\": [\n          82001\n        ],\n        \"semantic_type\": \"\",\n        \"description\": \"\"\n      }\n    },\n    {\n      \"column\": \"school_type\",\n      \"properties\": {\n        \"dtype\": \"category\",\n        \"num_unique_values\": 1,\n        \"samples\": [\n          \"Regular School\"\n        ],\n        \"semantic_type\": \"\",\n        \"description\": \"\"\n      }\n    },\n    {\n      \"column\": \"school_level\",\n      \"properties\": {\n        \"dtype\": \"category\",\n        \"num_unique_values\": 3,\n        \"samples\": [\n          \"High\"\n        ],\n        \"semantic_type\": \"\",\n        \"description\": \"\"\n      }\n    },\n    {\n      \"column\": \"district_id\",\n      \"properties\": {\n        \"dtype\": \"number\",\n        \"std\": 1375643,\n        \"min\": 1000080,\n        \"max\": 5605695,\n        \"num_unique_values\": 1184,\n        \"samples\": [\n          3904405\n        ],\n        \"semantic_type\": \"\",\n        \"description\": \"\"\n      }\n    },\n    {\n      \"column\": \"teacher_salary\",\n      \"properties\": {\n        \"dtype\": \"number\",\n        \"std\": 1.026472075381662,\n        \"min\": -3.6202213617781376,\n        \"max\": 5.571845637703016,\n        \"num_unique_values\": 996,\n        \"samples\": [\n          -0.1067503688246122\n        ],\n        \"semantic_type\": \"\",\n        \"description\": \"\"\n      }\n    },\n    {\n      \"column\": \"student_support\",\n      \"properties\": {\n        \"dtype\": \"number\",\n        \"std\": 1.1840598771652058,\n        \"min\": -2.8122096830133336,\n        \"max\": 18.44331780449541,\n        \"num_unique_values\": 1031,\n        \"samples\": [\n          -0.2459173201832338\n        ],\n        \"semantic_type\": \"\",\n        \"description\": \"\"\n      }\n    },\n    {\n      \"column\": \"staff_support\",\n      \"properties\": {\n        \"dtype\": \"number\",\n        \"std\": 1.15166856439925,\n        \"min\": -1.8589902571902743,\n        \"max\": 17.36919212219315,\n        \"num_unique_values\": 660,\n        \"samples\": [\n          0.5195004190097213\n        ],\n        \"semantic_type\": \"\",\n        \"description\": \"\"\n      }\n    },\n    {\n      \"column\": \"admin_salary\",\n      \"properties\": {\n        \"dtype\": \"number\",\n        \"std\": 0.9307910332696097,\n        \"min\": -1.092653993892981,\n        \"max\": 14.05786681248906,\n        \"num_unique_values\": 564,\n        \"samples\": [\n          0.294037660246903\n        ],\n        \"semantic_type\": \"\",\n        \"description\": \"\"\n      }\n    },\n    {\n      \"column\": \"average_act\",\n      \"properties\": {\n        \"dtype\": \"number\",\n        \"std\": 2.3848484362379154,\n        \"min\": 13.0708180708181,\n        \"max\": 29.4322344322344,\n        \"num_unique_values\": 522,\n        \"samples\": [\n          19.029304029304\n        ],\n        \"semantic_type\": \"\",\n        \"description\": \"\"\n      }\n    }\n  ]\n}"
            }
          },
          "metadata": {},
          "execution_count": 32
        }
      ]
    },
    {
      "cell_type": "markdown",
      "source": [
        "## State your questions"
      ],
      "metadata": {
        "id": "bObnX61C95DL"
      }
    },
    {
      "cell_type": "markdown",
      "source": [
        "The overall problem is to determine whether and how average school ACT performance is related to socioeconomic factors. To answer this general problem, you will need to ask specific questions about the data.\n"
      ],
      "metadata": {
        "id": "RnmjIKMJ99dJ"
      }
    },
    {
      "cell_type": "markdown",
      "source": [
        "##### $\\rightarrow$ List your questions about the data that will help you solve the problem.\n",
        "\n",
        "1. Which socio economic factors regarding a school have the strongest effect on its students' ACT/SAT scores?\n",
        "\n",
        "2. Where should school funding go to best support ACT/SAT performance?"
      ],
      "metadata": {
        "id": "h8NWZuty-NJJ"
      }
    },
    {
      "cell_type": "markdown",
      "source": [
        "## Analysis"
      ],
      "metadata": {
        "id": "bkTA97Z7QgpH"
      }
    },
    {
      "cell_type": "markdown",
      "source": [
        "Perform analyses necessary to answer the questions. You will likely start by trying many things, some of which are useful and some of which are not. Don't be afraid to try different analyses at first. You will edit your notebook to a clean version that retains only the essential components at the end of the project."
      ],
      "metadata": {
        "id": "0v1SrECiQjfZ"
      }
    },
    {
      "cell_type": "markdown",
      "source": [
        "This file should clearly produce the graphs, tables, models, etc that appear in the communication assignment."
      ],
      "metadata": {
        "id": "haBhD5t8rRM_"
      }
    },
    {
      "cell_type": "markdown",
      "source": [
        "### Feature Selection\n",
        "\n",
        "$\\rightarrow$ Investigating which subset of features will be most effective in creating a regression model with minimal error."
      ],
      "metadata": {
        "id": "wjR9t_xKPwQP"
      }
    },
    {
      "cell_type": "markdown",
      "source": [
        "First create a list of quantitative features:"
      ],
      "metadata": {
        "id": "yQq9yuscJx03"
      }
    },
    {
      "cell_type": "code",
      "source": [
        "q_feats = ['rate_unemployment','percent_college','percent_married','median_income','percent_lunch',\n",
        "           'teacher_salary','student_support','staff_support','admin_salary']"
      ],
      "metadata": {
        "id": "2oDght63J9_6"
      },
      "execution_count": 6,
      "outputs": []
    },
    {
      "cell_type": "code",
      "source": [
        "X_train = train[q_feats]\n",
        "y_train = train['average_act']\n",
        "\n",
        "X_test = test[q_feats]\n",
        "y_test = test['average_act']"
      ],
      "metadata": {
        "id": "Jsu-qdHkKnso"
      },
      "execution_count": 7,
      "outputs": []
    },
    {
      "cell_type": "code",
      "source": [
        "def best_subset_selection(X, y):\n",
        "    \"\"\" This function returns AIC, BIC, and adjusted R-squared values for use in best subset selection.\n",
        "\n",
        "    Inputs\n",
        "    ------\n",
        "    X : array-like, shape (n_samples, n_features)\n",
        "        Predictor values\n",
        "\n",
        "    y : array-like, shape (n_samples, )\n",
        "        Target values\n",
        "\n",
        "    Returns\n",
        "    ------\n",
        "    best_aic : AIC for the best model at each number of possible predictors\n",
        "\n",
        "    best_bic : BIC for the best model at each number of possible predictors\n",
        "\n",
        "    best_adjusted_rsquared : adjusted R-squared for the best model at each number of possible predictors\n",
        "\n",
        "    best_predictors : predictor names for the best model at each number of possible predictors\n",
        "\n",
        "    \"\"\"\n",
        "\n",
        "    variable_names = X.columns.values\n",
        "\n",
        "    number_variables = len(variable_names)\n",
        "\n",
        "    # Initialize empty arrays to hold the AIC, BIC, and adjusted r-squared for the best model\n",
        "    # at each number of predictors\n",
        "    best_aic = np.zeros(number_variables)\n",
        "    best_bic = np.zeros(number_variables)\n",
        "    best_adjusted_rsquared = np.zeros(number_variables)\n",
        "\n",
        "    # Initialize empty list to hold the names of the best predictors at each number of predictors\n",
        "    best_predictors = list()\n",
        "\n",
        "    # Loop over possible numbers of predictors\n",
        "    for k in range(number_variables):\n",
        "\n",
        "        # Get the names of all combinations of k+1 predictors\n",
        "        subset_names = list(combinations(variable_names, k+1))\n",
        "\n",
        "        # Loop over all models with k+1 predictors\n",
        "        for n, predictor_names in enumerate(subset_names):\n",
        "\n",
        "            # Fit the model\n",
        "            predictors_subset = X.loc[:, predictor_names]\n",
        "\n",
        "            model = sm.OLS(y, sm.add_constant(predictors_subset)).fit()\n",
        "\n",
        "            # Initialize the best values with the first model\n",
        "            if n == 0:\n",
        "\n",
        "                best_rsquared_k = model.rsquared\n",
        "                best_aic_k = model.aic\n",
        "                best_bic_k = model.bic\n",
        "                best_adjusted_rsquared_k = model.rsquared_adj\n",
        "                best_predictors_k = predictor_names\n",
        "\n",
        "            # If a model has a better r-squared, update the best values\n",
        "            elif model.rsquared > best_rsquared_k:\n",
        "\n",
        "                best_rsquared_k = model.rsquared\n",
        "                best_aic_k = model.aic\n",
        "                best_bic_k = model.bic\n",
        "                best_adjusted_rsquared_k = model.rsquared_adj\n",
        "                best_predictors_k = predictor_names\n",
        "\n",
        "        # Record the values for the best model at this number of predictors\n",
        "        best_bic[k] = best_bic_k\n",
        "        best_aic[k] = best_aic_k\n",
        "        best_adjusted_rsquared[k] = best_adjusted_rsquared_k\n",
        "        best_predictors.append(best_predictors_k)\n",
        "\n",
        "    return best_aic, best_bic, best_adjusted_rsquared, best_predictors"
      ],
      "metadata": {
        "id": "bp-S6mmRQhnh"
      },
      "execution_count": 8,
      "outputs": []
    },
    {
      "cell_type": "code",
      "source": [
        "def plot_best_subset_results(best_aic, best_bic, best_adjusted_rsquared, best_predictors):\n",
        "    \"\"\" Plot the best AIC, BIC, and adjusted R-squared values at each number of possible predictors\n",
        "\n",
        "    Input\n",
        "    -----\n",
        "    best_aic : AIC for the best model at each number of possible predictors\n",
        "\n",
        "    best_bic : BIC for the best model at each number of possible predictors\n",
        "\n",
        "    best_adjusted_rsquared : adjusted R-squared for the best model at each number of possible predictors\n",
        "\n",
        "    best_predictors : predictor names for the best model at each number of possible predictors\n",
        "\n",
        "    \"\"\"\n",
        "\n",
        "    number_predictors = np.arange(len(best_aic))+1\n",
        "\n",
        "    plt.subplots(1,3, figsize=(15,4))\n",
        "    plt.subplot(1,3,1)\n",
        "    plt.plot(number_predictors, best_aic, 'b-o')\n",
        "    plt.plot(number_predictors[np.argmin(best_aic)], np.min(best_aic), 'ro')\n",
        "    plt.xticks(number_predictors)\n",
        "    plt.xlabel('Number of predictors', fontsize=18)\n",
        "    plt.ylabel('AIC', fontsize=18)\n",
        "    #plt.title(best_predictors[np.argmin(best_aic)])\n",
        "\n",
        "    plt.subplot(1,3,2)\n",
        "    plt.plot(number_predictors, best_bic, 'b-o')\n",
        "    plt.plot(number_predictors[np.argmin(best_bic)], np.min(best_bic), 'ro')\n",
        "    plt.xticks(number_predictors)\n",
        "    plt.xlabel('Number of predictors', fontsize=18)\n",
        "    plt.ylabel('BIC', fontsize=18)\n",
        "    #plt.title(best_predictors[np.argmin(best_bic)])\n",
        "\n",
        "    plt.subplot(1,3,3)\n",
        "    plt.plot(number_predictors, best_adjusted_rsquared, 'b-o');\n",
        "    plt.plot(number_predictors[np.argmax(best_adjusted_rsquared)], np.max(best_adjusted_rsquared), 'ro')\n",
        "    plt.xticks(number_predictors)\n",
        "    plt.xlabel('Number of predictors', fontsize=18)\n",
        "    plt.ylabel('Adjusted R-squared', fontsize=18)\n",
        "    #plt.title(best_predictors[np.argmax(best_adjusted_rsquared)])\n",
        "\n",
        "    plt.subplots_adjust(wspace = 0.3)"
      ],
      "metadata": {
        "id": "6FqcS0mTIs_N"
      },
      "execution_count": 9,
      "outputs": []
    },
    {
      "cell_type": "code",
      "source": [
        "best_aic, best_bic, best_adjusted_rsquared, best_predictors = best_subset_selection(X_train, y_train)"
      ],
      "metadata": {
        "id": "By-gJHo4_R9q"
      },
      "execution_count": 10,
      "outputs": []
    },
    {
      "cell_type": "code",
      "source": [
        "plot_best_subset_results(best_aic, best_bic, best_adjusted_rsquared, best_predictors)"
      ],
      "metadata": {
        "colab": {
          "base_uri": "https://localhost:8080/",
          "height": 402
        },
        "id": "Nl6ZR8h__6k9",
        "outputId": "c2464ac1-7c5a-46a9-b11a-a977bc19d85f"
      },
      "execution_count": 11,
      "outputs": [
        {
          "output_type": "display_data",
          "data": {
            "text/plain": [
              "<Figure size 1500x400 with 3 Axes>"
            ],
            "image/png": "[encoded data removed]"
          },
          "metadata": {}
        }
      ]
    },
    {
      "cell_type": "markdown",
      "source": [
        "It appears like the best subset of features will be 6, 7, or 8. We want minimized AIC and BIC, with maximized Adjusted R-squared."
      ],
      "metadata": {
        "id": "lPzEBop_AdlU"
      }
    },
    {
      "cell_type": "code",
      "source": [
        "best_predictors"
      ],
      "metadata": {
        "colab": {
          "base_uri": "https://localhost:8080/"
        },
        "id": "fn9i9Hl5AWDb",
        "outputId": "e716627e-5b85-47a8-e655-1be97869f3fa"
      },
      "execution_count": 12,
      "outputs": [
        {
          "output_type": "execute_result",
          "data": {
            "text/plain": [
              "[('percent_lunch',),\n",
              " ('percent_college', 'percent_lunch'),\n",
              " ('rate_unemployment', 'percent_college', 'percent_lunch'),\n",
              " ('percent_college', 'percent_lunch', 'teacher_salary', 'student_support'),\n",
              " ('rate_unemployment',\n",
              "  'percent_college',\n",
              "  'percent_lunch',\n",
              "  'teacher_salary',\n",
              "  'student_support'),\n",
              " ('rate_unemployment',\n",
              "  'percent_college',\n",
              "  'percent_lunch',\n",
              "  'teacher_salary',\n",
              "  'student_support',\n",
              "  'staff_support'),\n",
              " ('rate_unemployment',\n",
              "  'percent_college',\n",
              "  'percent_married',\n",
              "  'percent_lunch',\n",
              "  'teacher_salary',\n",
              "  'student_support',\n",
              "  'staff_support'),\n",
              " ('rate_unemployment',\n",
              "  'percent_college',\n",
              "  'percent_married',\n",
              "  'percent_lunch',\n",
              "  'teacher_salary',\n",
              "  'student_support',\n",
              "  'staff_support',\n",
              "  'admin_salary'),\n",
              " ('rate_unemployment',\n",
              "  'percent_college',\n",
              "  'percent_married',\n",
              "  'median_income',\n",
              "  'percent_lunch',\n",
              "  'teacher_salary',\n",
              "  'student_support',\n",
              "  'staff_support',\n",
              "  'admin_salary')]"
            ]
          },
          "metadata": {},
          "execution_count": 12
        }
      ]
    },
    {
      "cell_type": "code",
      "source": [
        "subset_6 = ['rate_unemployment',\n",
        "  'percent_college',\n",
        "  'percent_lunch',\n",
        "  'teacher_salary',\n",
        "  'student_support',\n",
        "  'staff_support']\n",
        "\n",
        "subset_7 = ['rate_unemployment',\n",
        "  'percent_college',\n",
        "  'percent_married',\n",
        "  'percent_lunch',\n",
        "  'teacher_salary',\n",
        "  'student_support',\n",
        "  'staff_support']\n",
        "\n",
        "subset_8 = ['rate_unemployment',\n",
        "  'percent_college',\n",
        "  'percent_married',\n",
        "  'percent_lunch',\n",
        "  'teacher_salary',\n",
        "  'student_support',\n",
        "  'staff_support',\n",
        "  'admin_salary']"
      ],
      "metadata": {
        "id": "iITZGapgAu-Q"
      },
      "execution_count": 13,
      "outputs": []
    },
    {
      "cell_type": "code",
      "source": [
        "X_train_6 = X_train[subset_6]\n",
        "X_test_6 = X_test[subset_6]\n",
        "\n",
        "X_train_7 = X_train[subset_7]\n",
        "X_test_7 = X_test[subset_7]\n",
        "\n",
        "X_train_8 = X_train[subset_8]\n",
        "X_test_8 = X_test[subset_8]"
      ],
      "metadata": {
        "id": "iVvP9da8GO2i"
      },
      "execution_count": 14,
      "outputs": []
    },
    {
      "cell_type": "markdown",
      "source": [
        "### Model Selection\n",
        "\n",
        "$\\rightarrow$ Determining if it is best to proceed with a subset of 6, 7, or 8 features, and with what corresponding tuning parameter?"
      ],
      "metadata": {
        "id": "kiMatFTuBE_g"
      }
    },
    {
      "cell_type": "markdown",
      "source": [
        "First define a function to find an effective tuning parameter alpha and its corresponding regression (elastic net) model and mean squared error."
      ],
      "metadata": {
        "id": "ENODt9E-C5U_"
      }
    },
    {
      "cell_type": "code",
      "source": [
        "# Create 100 different ridge regression models with randomly selected alpha values.\n",
        "# Returns a tuple of (best_ridge_model, best_mse, best_alpha)\n",
        "def rand_find_good_alpha(X_train, y_train):\n",
        "  best_alpha = None\n",
        "  best_reg_model = None\n",
        "  best_mse = None\n",
        "  for a in np.random.choice(np.linspace(.01,1,10000),1000):\n",
        "    en_reg = ElasticNet(alpha=a)\n",
        "    en_reg.fit(X_train, y_train)\n",
        "    y_pred = en_reg.predict(X_train)\n",
        "    mse = mean_squared_error(y_train, y_pred)\n",
        "    if best_mse is None or mse < best_mse:\n",
        "      best_mse = mse\n",
        "      best_reg_model = en_reg\n",
        "      best_alpha = a\n",
        "  return (best_alpha, best_reg_model, best_mse)"
      ],
      "metadata": {
        "id": "4LgJ4Xk9DBqy"
      },
      "execution_count": 15,
      "outputs": []
    },
    {
      "cell_type": "markdown",
      "source": [
        "Test subset of 6 features first"
      ],
      "metadata": {
        "id": "vemjwluDCnFS"
      }
    },
    {
      "cell_type": "code",
      "source": [
        "best_alpha_6, best_model_6, best_mse_6 = rand_find_good_alpha(X_train_6, y_train)"
      ],
      "metadata": {
        "id": "0os-6afJBNx1"
      },
      "execution_count": 16,
      "outputs": []
    },
    {
      "cell_type": "code",
      "source": [
        "print('alpha: ', best_alpha_6)\n",
        "print('mean sq error: ', best_mse_6)"
      ],
      "metadata": {
        "colab": {
          "base_uri": "https://localhost:8080/"
        },
        "id": "SzWzqc2GGzlK",
        "outputId": "2530b047-0297-4ca6-f08c-f337775785d2"
      },
      "execution_count": 17,
      "outputs": [
        {
          "output_type": "stream",
          "name": "stdout",
          "text": [
            "alpha:  0.010693069306930694\n",
            "mean sq error:  2.16332515259615\n"
          ]
        }
      ]
    },
    {
      "cell_type": "markdown",
      "source": [
        "Now test on subset of 7 features"
      ],
      "metadata": {
        "id": "YZjAyHjFIJkz"
      }
    },
    {
      "cell_type": "code",
      "source": [
        "best_alpha_7, best_model_7, best_mse_7 = rand_find_good_alpha(X_train_7, y_train)"
      ],
      "metadata": {
        "id": "KW508USSIOOm"
      },
      "execution_count": 18,
      "outputs": []
    },
    {
      "cell_type": "code",
      "source": [
        "print('alpha: ', best_alpha_7)\n",
        "print('mean sq error: ', best_mse_7)"
      ],
      "metadata": {
        "colab": {
          "base_uri": "https://localhost:8080/"
        },
        "id": "41pmEVfwISHH",
        "outputId": "7d9be94c-0e4b-43b6-b1c3-0c6403ea4938"
      },
      "execution_count": 19,
      "outputs": [
        {
          "output_type": "stream",
          "name": "stdout",
          "text": [
            "alpha:  0.011089108910891089\n",
            "mean sq error:  2.1621094940249797\n"
          ]
        }
      ]
    },
    {
      "cell_type": "markdown",
      "source": [
        "And finally on 8 features"
      ],
      "metadata": {
        "id": "shEyokLrIMLB"
      }
    },
    {
      "cell_type": "code",
      "source": [
        "best_alpha_8, best_model_8, best_mse_8 = rand_find_good_alpha(X_train_8, y_train)"
      ],
      "metadata": {
        "id": "AimXAwcDIp9V"
      },
      "execution_count": 20,
      "outputs": []
    },
    {
      "cell_type": "code",
      "source": [
        "print('alpha: ', best_alpha_8)\n",
        "print('mean sq error: ', best_mse_8)"
      ],
      "metadata": {
        "colab": {
          "base_uri": "https://localhost:8080/"
        },
        "id": "j_ZyChzbIuAy",
        "outputId": "1a3fa63d-1a34-4502-c432-1c382a789676"
      },
      "execution_count": 21,
      "outputs": [
        {
          "output_type": "stream",
          "name": "stdout",
          "text": [
            "alpha:  0.012574257425742575\n",
            "mean sq error:  2.162064181946852\n"
          ]
        }
      ]
    },
    {
      "cell_type": "markdown",
      "source": [
        "The model seems to have similar errors for all 3 subsets. In this case, it is best to use the least amount of subsets to save computational power and reduce the likelihood of multi-collinearity."
      ],
      "metadata": {
        "id": "eY6n91gRltFq"
      }
    },
    {
      "cell_type": "markdown",
      "source": [
        "### Visualizing model results and coefficients\n",
        "\n",
        "$\\rightarrow$ Plotting model performance on train and test data sets and taking note of feature coefficient and intercept values."
      ],
      "metadata": {
        "id": "U2lDOreWyjjm"
      }
    },
    {
      "cell_type": "code",
      "source": [
        "a = best_alpha_6\n",
        "en_reg = ElasticNet(alpha = a).fit(X_train_6, y_train)"
      ],
      "metadata": {
        "id": "mde7w4kcvy1I"
      },
      "execution_count": 22,
      "outputs": []
    },
    {
      "cell_type": "code",
      "source": [
        "y_pred_test = en_reg.predict(X_test_6)\n",
        "y_pred_train = en_reg.predict(X_train_6)"
      ],
      "metadata": {
        "id": "aiDddi1Ptpxc"
      },
      "execution_count": 23,
      "outputs": []
    },
    {
      "cell_type": "code",
      "source": [
        "def plot_model_results(y_train, y_test, y_pred_train, y_pred_test):\n",
        "  one_train = np.linspace(y_train.min(), y_train.max(), 100)\n",
        "  one_test = np.linspace(y_test.min(), y_test.max(), 100)\n",
        "  rmse_test = np.sqrt(np.mean((y_pred_test - y_test)**2))\n",
        "  rmse_train = np.sqrt(np.mean((y_pred_train - y_train)**2))\n",
        "\n",
        "  fig,(ax1, ax2) = plt.subplots(1, 2)\n",
        "  ax1.plot(y_pred_train, y_train, 'o')\n",
        "  ax1.plot(one_train, one_train, '-', label=f\"RMSE = {rmse_train:.2f} points\")\n",
        "  ax1.set_title(\"Training Set\")\n",
        "  ax1.set_xlabel(\"Predicted ACT Score\")\n",
        "  ax1.set_ylabel(\"Actual ACT Score\")\n",
        "  ax1.legend()\n",
        "\n",
        "  ax2.plot(y_pred_test, y_test, 'o')\n",
        "  ax2.plot(one_test, one_test, '-', label=f\"RMSE = {rmse_test:.2f} points\")\n",
        "  ax2.legend()\n",
        "  ax2.set_title(\"Test Set\")\n",
        "  ax2.set_xlabel(\"Predicted ACT Score\")\n",
        "  ax2.set_ylabel(\"Actual ACT Score\")\n",
        "  fig.set_size_inches(12, 5)"
      ],
      "metadata": {
        "id": "xeHjZOawkc5q"
      },
      "execution_count": 24,
      "outputs": []
    },
    {
      "cell_type": "code",
      "source": [
        "plot_model_results(y_train, y_test, y_pred_train, y_pred_test)"
      ],
      "metadata": {
        "colab": {
          "base_uri": "https://localhost:8080/",
          "height": 496
        },
        "id": "6G-xh8jItAXc",
        "outputId": "accd8c98-8616-451c-febe-9334a27ff5d7"
      },
      "execution_count": 25,
      "outputs": [
        {
          "output_type": "display_data",
          "data": {
            "text/plain": [
              "<Figure size 1200x500 with 2 Axes>"
            ],
            "image/png": "[encoded data removed]"
          },
          "metadata": {}
        }
      ]
    },
    {
      "cell_type": "code",
      "source": [
        "print(en_reg.coef_)\n",
        "print(en_reg.intercept_)"
      ],
      "metadata": {
        "colab": {
          "base_uri": "https://localhost:8080/"
        },
        "id": "cE_DecO8wmYi",
        "outputId": "58f06918-4a0d-4204-aadf-aa2599162aaf"
      },
      "execution_count": 26,
      "outputs": [
        {
          "output_type": "stream",
          "name": "stdout",
          "text": [
            "[-0.09309237  0.27078594 -1.62753458  0.3007152  -0.31638631  0.06343323]\n",
            "20.397941045233843\n"
          ]
        }
      ]
    },
    {
      "cell_type": "code",
      "source": [
        "for feature_name, coeff in zip(X_train_6.columns, en_reg.coef_.squeeze()):\n",
        "  print(f\"{feature_name}: {coeff:.4f}\")\n",
        "\n",
        "print(f\"intercept: {en_reg.intercept_}\")"
      ],
      "metadata": {
        "colab": {
          "base_uri": "https://localhost:8080/"
        },
        "id": "ClSJPMOTwof1",
        "outputId": "af07d94b-525e-45f4-c359-90021f5af489"
      },
      "execution_count": 27,
      "outputs": [
        {
          "output_type": "stream",
          "name": "stdout",
          "text": [
            "rate_unemployment: -0.0931\n",
            "percent_college: 0.2708\n",
            "percent_lunch: -1.6275\n",
            "teacher_salary: 0.3007\n",
            "student_support: -0.3164\n",
            "staff_support: 0.0634\n",
            "intercept: 20.397941045233843\n"
          ]
        }
      ]
    },
    {
      "cell_type": "markdown",
      "source": [
        "## Conclusion"
      ],
      "metadata": {
        "id": "OClcegJVrF8Y"
      }
    },
    {
      "cell_type": "markdown",
      "source": [
        "With a model that can reliably predict ACT results within 1.5 points, it seems like the socio economic factor with the heaviest influence on ACT scores is the proportion of students in a school that avail of free/reduced price school lunch. There is a negative relationship between this proportion and average ACT scores, and this can be explained by the tendency for higher income class students to attend prestigious schools with expensive cafeterias.\n",
        "\n",
        "Beyond that, a school in an area with more college degree holders tends to have higher ACT scores as well. A school in such an area likely has many students from families with higher education backgrounds. These families probably expect their children to attend college too and consequently invest in standardized test preparation, which explains the positive relationship.\n",
        "\n",
        "Lastly, there is a weak negative relationship between ACT scores and a school area's unemployment rate. Residents in places with higher unemployment rates tend to struggle more with pursuing higher education and standardized test taking as whole. The model likely does not weigh this variable too much because chances are that unemployed residents are not prioritizing sending their children to school, which minimizes the impact of unemployment rate on actual recorded ACT scores.\n",
        "\n",
        "As for how the distribution of invested capital into a school's resources influences ACT scores, there is a positive relationship with teacher salaries and staff support, but a negative realtionship with student support. The positive relationships reflect the importance of making sure instructors are paid well and supported for students to perform well in tests. Interestingly, it seems like the opportunity cost of putting money into student support outweighs its benefits. This is proabably because schools would have to spend much more on student support because of a typically much larger student population compared to faculty and staff, and students would have less initiative to make use of those resources. As such, bigger impacts on education quality can be made by investing capital in other departments like teacher salaries."
      ],
      "metadata": {
        "id": "45aRW_rjrHT5"
      }
    }
  ]
}